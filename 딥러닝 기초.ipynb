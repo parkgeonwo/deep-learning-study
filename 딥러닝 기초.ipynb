{
  "nbformat": 4,
  "nbformat_minor": 0,
  "metadata": {
    "colab": {
      "name": "Untitled31.ipynb",
      "provenance": []
    },
    "kernelspec": {
      "name": "python3",
      "display_name": "Python 3"
    },
    "language_info": {
      "name": "python"
    }
  },
  "cells": [
    {
      "cell_type": "code",
      "execution_count": null,
      "metadata": {
        "id": "rHC9wZjU8VWt"
      },
      "outputs": [],
      "source": [
        "# 2021/12/15\n",
        "# by 건우 "
      ]
    },
    {
      "cell_type": "markdown",
      "source": [
        "■ 머신러닝과 딥러닝의 차이\n",
        "\n",
        "머신러닝으로 기계학습을 하려면 정형화된 데이터가 있어야 했습니다.\n",
        "표 형태의 정형화된 데이터를 만들려고 판다스를 이용했습니다.\n",
        "이런 정형화된 데이터를 만드는것이 상당한 노력이 들어가는 일입니다.\n",
        "그래서 딥러닝은 그냥 이미지를 신경망에 넣기만 하면 알아서 데이터를 숫자로 변경해서\n",
        "정형화된 데이터로 만들어서 학습합니다.\n",
        "\n",
        "그래서 신경망이 스스로 학습해서 그 이미지를 신경망이 알아볼 수 있는 상태까지 되는것입니다."
      ],
      "metadata": {
        "id": "w7db9hQi9dz6"
      }
    },
    {
      "cell_type": "markdown",
      "source": [
        "■ 딥러닝 기술을 이용해서 현업에서 하고 있는 일들 ?\n",
        "\n",
        "\t1. 인천공항 컨테이너 검색대에 물건을 올리면 cnn 으로 판별하여 위반되는 물품이 있는지\n",
        "\t검사하는 신경망을 개발\n",
        "\n",
        "\t2. 의료쪽에서는 x-ray 사진과 의료영상 사진의 질병여부를 컴퓨터가 판별\n",
        "\n",
        "\t3. 물품(의류)의 불량품을 판별하는 신경망 개발\n",
        "\n",
        "\t4. 주가 예측 신경망 개발\n",
        "\t\n",
        "\t5. 외국어를 번역하는 신경망\n",
        "\n",
        "\t6. 인공지능 변호사(법률책 ------> 신경망 -------> 판결)\n",
        "\n",
        "\t7. 음악 작곡 신경망(Gan)\n",
        "\tsbs 인간과 Ai 세기의 대결\n",
        "\t\n",
        "\t8. 인공지능 오목"
      ],
      "metadata": {
        "id": "43DFdPIi9vvn"
      }
    },
    {
      "cell_type": "code",
      "source": [
        "# 텐써플로우 2.0 설치 방법\n",
        "\n",
        "# * 텐써플로우 설치\n",
        "\n",
        "#1. 아나콘다 프롬프트창을 열고 가상환경을 만듭니다.\n",
        "\n",
        "python  --version  # 파이썬 버전 확인\n",
        "\n",
        "conda  create -n  snow1  python=3.8.3 \n",
        "\n",
        "# 설명:  snow1 이라는 이름으로 파이썬3.8.3의 아나콘다 가상환경을 만듭니다.\n",
        "\n",
        "# 2. snow1 가상환경을 활성화 시킵니다.\n",
        "\n",
        "activate  snow1\n",
        "\n",
        "# 3.  snow1 가상환경에 tensorflow 설치\n",
        "\n",
        "pip install  tensorflow \n",
        "\n",
        "# 4. snow1 가상환경에 jupyter notebook 설치\n",
        "\n",
        "conda  install  jupyter notebook\n",
        "\n",
        "# 5. 시작 버튼 누르고 Anaconda 에 가서 보면 snow1 으로 생성된 새로운 주피터 노트북을 실행하세요 ~\n"
      ],
      "metadata": {
        "id": "7UBftJhi9S9h"
      },
      "execution_count": null,
      "outputs": []
    },
    {
      "cell_type": "code",
      "source": [
        ""
      ],
      "metadata": {
        "id": "USIpwUeb9S_3"
      },
      "execution_count": null,
      "outputs": []
    },
    {
      "cell_type": "code",
      "source": [
        "#■ 텐써플로우 2.0 를 이용해서 AND 퍼셉트론 구현하기\n",
        "\n",
        "\n",
        "import  tensorflow  as   tf\n",
        "\n",
        "tf.random.set_seed(777)  # 시드를 설정한다.\n",
        "import  numpy  as  np\n",
        "from  tensorflow.keras.models  import  Sequential   # 신경망 모델 구성\n",
        "from  tensorflow.keras.layers  import  Dense  # 완전 연결계층 \n",
        "from  tensorflow.keras.optimizers  import   SGD  # 경사감소법 \n",
        "from  tensorflow.keras.losses   import   mse    #  오차함수 \n",
        "\n",
        "# 데이터 준비\n",
        "x = np.array( [ [0, 0], [1, 0], [0, 1], [1, 1] ] )\n",
        "y = np.array( [ [0], [0], [0], [1] ] )\n",
        "\n",
        "#모델 구성하기 \n",
        "model = Sequential()\n",
        "\n",
        "#단층 퍼셉트론 구현하기\n",
        "model.add( Dense( 1, input_shape =( 2,  ), activation ='linear')  ) \n",
        "\n",
        "# 모델 준비하기\n",
        "model.compile( optimizer= SGD(), \n",
        "                     loss= mse, \n",
        "                     metrics = ['acc'] ) # list 형태로 평가지표를 전달한다.  \n",
        "\n",
        "# 학습 시키기 \n",
        "model.fit(x, y, epochs = 500) "
      ],
      "metadata": {
        "id": "hmfRNP4h-FR8"
      },
      "execution_count": null,
      "outputs": []
    },
    {
      "cell_type": "code",
      "source": [
        ""
      ],
      "metadata": {
        "id": "SE57UEG9-FUj"
      },
      "execution_count": null,
      "outputs": []
    },
    {
      "cell_type": "code",
      "source": [
        "#■ 텐써플로우 2.0 를 이용해서 XOR 퍼셉트론 구현하기\n",
        "\n",
        "import  tensorflow  as   tf\n",
        "\n",
        "tf.random.set_seed(777)  # 시드를 설정한다.\n",
        "import  numpy  as  np\n",
        "from  tensorflow.keras.models  import  Sequential   # 신경망 모델 구성\n",
        "from  tensorflow.keras.layers  import  Dense  # 완전 연결계층 \n",
        "from  tensorflow.keras.optimizers  import   SGD,Adam  # 경사감소법 \n",
        "from  tensorflow.keras.losses   import   mse    #  오차함수 \n",
        "\n",
        "\n",
        "# 데이터 준비\n",
        "x = np.array( [ [0, 0], [1, 0], [0, 1], [1, 1] ] )\n",
        "y = np.array( [ [0], [1], [1], [0] ] )   # XOR 게이트용 데이터\n",
        "\n",
        "#모델 구성하기 \n",
        "model = Sequential()\n",
        "\n",
        "#다층 퍼셉트론 구현하기\n",
        "model.add( Dense( 10, input_shape =( 2,  ), activation='relu') ) # 1층 구현\n",
        "model.add( Dense( 1 , activation ='sigmoid')  )  # 2층 출력층, 0~1사이의 실수를 출력하는 sigmoid 함수를\n",
        "                                                                # 사용합니다.\n",
        "\n",
        "# 모델 준비하기\n",
        "model.compile( optimizer= Adam(), \n",
        "                     loss= mse, \n",
        "                     metrics = ['acc'] ) # list 형태로 평가지표를 전달한다.  \n",
        "\n",
        "# 학습 시키기 \n",
        "model.fit(x, y, epochs = 500, verbose=1) "
      ],
      "metadata": {
        "id": "A7f6rGBj-FWt"
      },
      "execution_count": null,
      "outputs": []
    },
    {
      "cell_type": "code",
      "source": [
        ""
      ],
      "metadata": {
        "id": "XHJN4BI0-FZU"
      },
      "execution_count": null,
      "outputs": []
    },
    {
      "cell_type": "code",
      "source": [
        ""
      ],
      "metadata": {
        "id": "xhG1xlyP-Fdy"
      },
      "execution_count": null,
      "outputs": []
    }
  ]
}