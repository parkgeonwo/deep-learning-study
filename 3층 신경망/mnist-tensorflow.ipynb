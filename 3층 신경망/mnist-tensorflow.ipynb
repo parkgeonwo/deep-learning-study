{
  "nbformat": 4,
  "nbformat_minor": 0,
  "metadata": {
    "colab": {
      "name": "Untitled34.ipynb",
      "provenance": []
    },
    "kernelspec": {
      "name": "python3",
      "display_name": "Python 3"
    },
    "language_info": {
      "name": "python"
    }
  },
  "cells": [
    {
      "cell_type": "code",
      "execution_count": null,
      "metadata": {
        "id": "w8EMt4gs4v_-"
      },
      "outputs": [],
      "source": [
        "# 2021/12/31 \n",
        "# by 건우\n",
        "# mnist 데이터 tensorflow로 구현"
      ]
    },
    {
      "cell_type": "code",
      "source": [
        "# 1. mnist 데이터를 불러옵니다.\n",
        "import tensorflow as tf\n",
        "from tensorflow.keras.datasets.mnist import load_data\n",
        "\n",
        "(x_train, y_train), (x_test, y_test) = load_data(path = 'mnist.npz')\n",
        "# 훈련                       # 테스트\n",
        "# 데이터 , 정답      # 데이터 , 정답\n",
        "\n",
        "print(x_train.shape)        # (60000,28,28)      (데이터 갯수, 가로 픽셀수, 세로 픽셀수)\n",
        "print(y_train.shape)       # (60000)\n",
        "print(x_test.shape)         # (10000,28,28)\n",
        "print(y_test.shape)          # (10000)"
      ],
      "metadata": {
        "id": "XNkdQk3r4wf2"
      },
      "execution_count": null,
      "outputs": []
    },
    {
      "cell_type": "code",
      "source": [
        "# 2.1 28x28 의 shape 를 1 x 784 로 변경합니다.\n",
        "\n",
        "x_train = x_train.reshape(60000, 28*28)\n",
        "x_test = x_test.reshape(10000, 28*28)\n"
      ],
      "metadata": {
        "id": "H4B-oIvQ4wil"
      },
      "execution_count": null,
      "outputs": []
    },
    {
      "cell_type": "code",
      "source": [
        "# 2.2 정답 데이터를 준비합니다. ( p98 원핫인코딩을 해야합니다. )\n",
        "\n",
        "\"\"\"\n",
        "# 원핫인코딩이란 ( onehot encoding ) ?\n",
        "\n",
        "# 숫자 7을 다음과 같이 [ 0, 0, 0, 0, 0, 0, 0, 1, 0, 0 ] 만드는 것을 뜻합니다.\n",
        "# 즉 리스트의 7번째 인덱스만 1이고 나머지는 0으로 구성하는것을 말합니다.\n",
        "\n",
        "from tensorflow.keras.utils import to_categorical\n",
        "\n",
        "print(to_categorical(7 , num_classes = 10))         # [0. 0. 0. 0. 0. 0. 0. 1. 0. 0.]\n",
        "\n",
        "print( to_categorical( [7, 4, 3, 1, 9], num_classes = 10 ) )\n",
        "\n",
        "# [[0. 0. 0. 0. 0. 0. 0. 1. 0. 0.]\n",
        "#  [0. 0. 0. 0. 1. 0. 0. 0. 0. 0.]\n",
        "#  [0. 0. 0. 1. 0. 0. 0. 0. 0. 0.]\n",
        "#  [0. 1. 0. 0. 0. 0. 0. 0. 0. 0.]\n",
        "#  [0. 0. 0. 0. 0. 0. 0. 0. 0. 1.]]\n",
        "# \"\"\"\n",
        "\n",
        "from tensorflow.keras.utils import to_categorical\n",
        "\n",
        "y_train = to_categorical(y_train)\n",
        "y_test = to_categorical(y_test)\n",
        "print( y_train.shape )       # (60000,10)\n"
      ],
      "metadata": {
        "id": "5WZeC6uy4wld"
      },
      "execution_count": null,
      "outputs": []
    },
    {
      "cell_type": "code",
      "source": [
        "# 3. 모델을 구성합니다.\n",
        "\n",
        "# 그림 : https://cafe.daum.net/oracleoracle/Shyl/182\n",
        "\n",
        "from tensorflow.keras.models import Sequential\n",
        "from tensorflow.keras.layers import Dense\n",
        "\n",
        "model = Sequential()\n",
        "model.add( Dense( 128, activation = 'sigmoid', input_shape = (784, ) ) )     # 은닉 1층\n",
        "model.add( Dense( 10, activation = 'softmax' ) )    # 출력층\n",
        "\n"
      ],
      "metadata": {
        "id": "L2W7UwDq4woO"
      },
      "execution_count": null,
      "outputs": []
    },
    {
      "cell_type": "code",
      "source": [
        "# 4. 모델을 설정합니다. ( 경사하강법과 오차함수를 정의해줍니다. 4장에서 배움 )\n",
        "\n",
        "model.compile( optimizer = 'adam',      # 경사하강법\n",
        "\t\t\tloss = 'categorical_crossentropy',      # 오차함수\n",
        "\t\t\tmetrics = ['acc'] )     # 학습과정에서 정확도를 보려고 지정\n"
      ],
      "metadata": {
        "id": "x_EO-bvp4wqn"
      },
      "execution_count": null,
      "outputs": []
    },
    {
      "cell_type": "code",
      "source": [
        "# 5. 모델을 훈련 시킵니다.\n",
        "\n",
        "# model.fit( 훈련데이터, 정답, 에폭수, 배치사이즈 )\n",
        "# 에폭수 : 학습횟수 (책을 몇번 볼건지)\n",
        "# 배치사이즈 : 한번에 학습할 양 (사람을 책을 한번에 한페이지 밖에 못보지만 컴퓨터는 여러 페이지 봄)\n",
        "\n",
        "model.fit( x_train, y_train, epochs = 30, batch_size = 100 )\n",
        "\n",
        "# 시각화하려면 history 에 담아줘야함\n",
        "# history = model.fit( x_train, y_train, epochs = 30, batch_size = 100 )\n",
        "# 모델이 훈련하는 과정을 history 변수에 담습니다.\n",
        "# model.fit 의 history를 남겨야한다. / model.fit 대신 위의 코드 입력\n",
        "\n"
      ],
      "metadata": {
        "id": "Qf9z4XYr5Ls4"
      },
      "execution_count": null,
      "outputs": []
    },
    {
      "cell_type": "code",
      "source": [
        "# 6. 모델을 평가합니다.( 시험을 봅니다. )\n",
        "\n",
        "model.evaluate( x_test, y_test )      # [0.17557211220264435, 0.9483000040054321]"
      ],
      "metadata": {
        "id": "Cr3JqNAM5LvP"
      },
      "execution_count": null,
      "outputs": []
    },
    {
      "cell_type": "code",
      "source": [
        "# 시각화\n",
        "\n",
        "# 참고 코드 :\n",
        "# 시각화\n",
        "import matplotlib.pyplot as plt\n",
        "\n",
        "his_dict = history.history              # 모델 훈련과정에서 쌓은 오차와 정확도 데이터를 불러온다\n",
        "loss = his_dict['loss']                        # 훈련과정에서 기록한 30개의 오차를 loss 변수에 담습니다.\n",
        "\n",
        "epochs = range(1, len(loss) + 1)     # 1부터 30까지의 숫자를 epochs에 담는다. , 그래프의 x 축\n",
        "fig = plt.figure(figsize = (10, 5))     # 그래프 전체 사이즈 설정\n",
        "\n",
        "# 훈련 및 검증 손실 그리기\n",
        "ax1 = fig.add_subplot(1, 2, 1)     # 하나의 화면에 2개의 그래프 중 첫번째 그래프 그리는데 첫번째 그래프\n",
        "ax1.plot(epochs, loss, color = 'blue', label = 'train_loss')  # x 축 에폭수, y 축 loss 로 라인 그래프 그림\n",
        "ax1.set_title('train  loss')     # 그래프 제목\n",
        "ax1.set_xlabel('epochs')       # 그래프의 x 축 제목\n",
        "ax1.set_ylabel('loss')         # 그래프의 y 축 제목\n",
        "ax1.legend()           \n",
        "\n",
        "acc = his_dict['acc']       # 30개의 정확도 데이터를 acc 변수에 담습니다.\n",
        "\n",
        "# 훈련 및 검증 정확도 그리기\n",
        "ax2 = fig.add_subplot(1, 2, 2)\n",
        "ax2.plot(epochs, acc, color = 'blue', label = 'train_acc')\n",
        "ax2.set_title('train and val acc')\n",
        "ax2.set_xlabel('epochs')\n",
        "ax2.set_ylabel('acc')\n",
        "ax2.legend()\n",
        "\n",
        "plt.show()\n"
      ],
      "metadata": {
        "id": "lNBhBtBo5Lxt"
      },
      "execution_count": null,
      "outputs": []
    },
    {
      "cell_type": "code",
      "source": [
        ""
      ],
      "metadata": {
        "id": "IG4NDlDK5Lz7"
      },
      "execution_count": null,
      "outputs": []
    },
    {
      "cell_type": "code",
      "source": [
        ""
      ],
      "metadata": {
        "id": "bX6Y3xdy5L2v"
      },
      "execution_count": null,
      "outputs": []
    },
    {
      "cell_type": "code",
      "source": [
        ""
      ],
      "metadata": {
        "id": "szI8WoBx4wtO"
      },
      "execution_count": null,
      "outputs": []
    }
  ]
}